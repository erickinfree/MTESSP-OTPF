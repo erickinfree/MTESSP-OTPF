{
 "cells": [
  {
   "cell_type": "code",
   "execution_count": null,
   "id": "0fe827c4",
   "metadata": {},
   "outputs": [],
   "source": [
    "import numpy as np\n",
    "import pandas as pd\n",
    "import networkx as nx\n",
    "from numpy.linalg import norm\n",
    "\n",
    "class EventMatrix:\n",
    "    def __init__(self,eventexcel):\n",
    "        self.eventexcel = eventexcel\n",
    "\n",
    "    def CosSimcal(self,event1,event2):\n",
    "        cosine_similarity = np.dot(event1, event2)/(norm(event1)*norm(event2))\n",
    "        return cosine_similarity\n",
    "\n",
    "    def PersonSimcal(self,event1,event2):\n",
    "        correlation_matrix = np.corrcoef(event1,event2)\n",
    "        pearson_correlation = correlation_matrix[0, 1]\n",
    "        return pearson_correlation\n",
    "\n",
    "    def Netting(self):\n",
    "        df_target = pd.DataFrame(columns=['startevent','endevent','weight'])\n",
    "        num_columns = self.eventexcel.shape[1]\n",
    "        df = self.eventexcel\n",
    "        for i in range(1,num_columns):\n",
    "            for j in range(1,num_columns):\n",
    "                if i != j:\n",
    "                    weight = abs(self.CosSimcal(df.iloc[:,i],df.iloc[:,j]))\n",
    "                    new_data = {'startevent': df.columns[i], 'endevent': df.columns[j], 'weight': weight}\n",
    "                    df_target = pd.concat([df_target, pd.DataFrame([new_data])], ignore_index=True)\n",
    "                    # print(new_data)\n",
    "        return df_target\n",
    "\n",
    "    def NettingMatrix(self):\n",
    "        targetpair = self.Netting()\n",
    "        G = nx.Graph()\n",
    "        for startname, endname, wgt in zip(targetpair['startevent'], targetpair['endevent'], targetpair['weight']):\n",
    "            G.add_edge(startname, endname, weight=wgt)\n",
    "        adj_matrix = nx.to_numpy_matrix(G)\n",
    "        return adj_matrix\n",
    "\n",
    "if __name__ == '__main__':\n",
    "    data = pd.read_excel('event_1.xlsx')\n",
    "    event = EventMatrix(data)\n",
    "    print(event.NettingMatrix())"
   ]
  }
 ],
 "metadata": {
  "kernelspec": {
   "display_name": "Python 3 (ipykernel)",
   "language": "python",
   "name": "python3"
  },
  "language_info": {
   "codemirror_mode": {
    "name": "ipython",
    "version": 3
   },
   "file_extension": ".py",
   "mimetype": "text/x-python",
   "name": "python",
   "nbconvert_exporter": "python",
   "pygments_lexer": "ipython3",
   "version": "3.10.9"
  }
 },
 "nbformat": 4,
 "nbformat_minor": 5
}
