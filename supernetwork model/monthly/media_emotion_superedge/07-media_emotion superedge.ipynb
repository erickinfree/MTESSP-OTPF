{
 "cells": [
  {
   "cell_type": "code",
   "execution_count": 2,
   "id": "b97fa58c",
   "metadata": {},
   "outputs": [],
   "source": [
    "#1、2模块是分月份\n",
    "import pandas as pd\n",
    "\n",
    "# 读取第一个Excel表格\n",
    "df1 = pd.read_excel(r\"E:\\课题组\\个人\\论文\\多系统风险传导最短路径\\媒体情绪\\媒体数据_分月\\2023-07.xlsx\")\n",
    "\n",
    "# 去除情绪列标题中的空格\n",
    "df1.columns = df1.columns.str.strip()\n",
    "\n",
    "# 创建一个空的DataFrame来存储媒体和情绪的邻接矩阵\n",
    "media_emotion_matrix = pd.DataFrame()\n",
    "\n",
    "# 遍历第一个Excel表中的每一行\n",
    "for index, row in df1.iterrows():\n",
    "    media = row[\"媒体名称\"]\n",
    "    emotions_str = str(row[\"res_all\"])  # 将值转换为字符串类型\n",
    "    emotions = emotions_str.replace(\" \", \"\").split(\",\")  # 去除空格后再按逗号分割成列表\n",
    "    \n",
    "    # 统计每个情绪的数量\n",
    "    emotion_count = {}\n",
    "    for emotion in emotions:\n",
    "        emotion_count[emotion] = emotion_count.get(emotion, 0) + 1\n",
    "    \n",
    "    # 将统计结果添加到邻接矩阵中\n",
    "    for emotion, count in emotion_count.items():\n",
    "        if emotion not in media_emotion_matrix.columns:\n",
    "            media_emotion_matrix[emotion] = 0  # 如果情绪列不存在，则创建\n",
    "        if media not in media_emotion_matrix.index:\n",
    "            media_emotion_matrix.loc[media] = 0  # 如果媒体行不存在，则创建\n",
    "        media_emotion_matrix.at[media, emotion] += count  # 更新值\n",
    "\n",
    "with pd.ExcelWriter(\"07media_emotion07(1).xlsx\") as writer:\n",
    "    media_emotion_matrix.to_excel(writer, sheet_name=\"07\")"
   ]
  },
  {
   "cell_type": "code",
   "execution_count": 35,
   "id": "d409eb11",
   "metadata": {},
   "outputs": [],
   "source": [
    "import os\n",
    "import pandas as pd\n",
    "\n",
    "# 设置要遍历的文件夹路径\n",
    "folder_path = \"media_emotion\"\n",
    "\n",
    "# 获取文件夹下所有文件的文件名\n",
    "file_names = os.listdir(folder_path)\n",
    "\n",
    "# 创建一个空的 ExcelWriter 对象，用于将多个 Excel 文件的内容写入到同一个 Excel 文件中\n",
    "with pd.ExcelWriter(\"07media_emotion.xlsx\", engine=\"xlsxwriter\") as writer:\n",
    "    # 遍历文件夹下的所有文件\n",
    "    for file_name in file_names:\n",
    "        # 如果文件是 Excel 文件，则读取其中的内容并写入到新文件的不同工作表中\n",
    "        if file_name.endswith(\".xlsx\"):\n",
    "            # 读取 Excel 文件\n",
    "            df = pd.read_excel(os.path.join(folder_path, file_name))\n",
    "            # 将文件名作为工作表名称\n",
    "            sheet_name = os.path.splitext(file_name)[0]\n",
    "            # 将 DataFrame 写入到 Excel 文件中的不同工作表中\n",
    "            df.to_excel(writer, sheet_name=sheet_name, index=False)"
   ]
  },
  {
   "cell_type": "code",
   "execution_count": 5,
   "id": "f68d7300",
   "metadata": {},
   "outputs": [
    {
     "name": "stderr",
     "output_type": "stream",
     "text": [
      "C:\\Users\\17122\\AppData\\Roaming\\Python\\Python310\\site-packages\\pandas\\core\\arrays\\masked.py:60: UserWarning: Pandas requires version '1.3.6' or newer of 'bottleneck' (version '1.3.5' currently installed).\n",
      "  from pandas.core import (\n"
     ]
    }
   ],
   "source": [
    "#全年数据\n",
    "import pandas as pd\n",
    "\n",
    "# 读取第一个Excel表格\n",
    "df1 = pd.read_excel(r\"E:\\课题组\\个人\\论文\\多系统风险传导最短路径\\network\\全年network\\media_emotion_merged.xlsx\")\n",
    "\n",
    "# 去除情绪列标题中的空格\n",
    "df1.columns = df1.columns.str.strip()\n",
    "\n",
    "# 创建一个空的DataFrame来存储媒体和情绪的邻接矩阵\n",
    "media_emotion_matrix = pd.DataFrame()\n",
    "\n",
    "# 遍历第一个Excel表中的每一行\n",
    "for index, row in df1.iterrows():\n",
    "    media = row[\"媒体名称\"]\n",
    "    emotions_str = str(row[\"res_all\"])  # 将值转换为字符串类型\n",
    "    emotions = emotions_str.replace(\" \", \"\").split(\",\")  # 去除空格后再按逗号分割成列表\n",
    "    \n",
    "    # 统计每个情绪的数量\n",
    "    emotion_count = {}\n",
    "    for emotion in emotions:\n",
    "        emotion_count[emotion] = emotion_count.get(emotion, 0) + 1\n",
    "    \n",
    "    # 将统计结果添加到邻接矩阵中\n",
    "    for emotion, count in emotion_count.items():\n",
    "        if emotion not in media_emotion_matrix.columns:\n",
    "            media_emotion_matrix[emotion] = 0  # 如果情绪列不存在，则创建\n",
    "        if media not in media_emotion_matrix.index:\n",
    "            media_emotion_matrix.loc[media] = 0  # 如果媒体行不存在，则创建\n",
    "        media_emotion_matrix.at[media, emotion] += count  # 更新值\n",
    "\n",
    "with pd.ExcelWriter(r\"E:\\课题组\\个人\\论文\\多系统风险传导最短路径\\network\\全年network\\07media_emotion_allyear.xlsx\") as writer:\n",
    "    media_emotion_matrix.to_excel(writer, sheet_name=\"07\")\n",
    "\n"
   ]
  },
  {
   "cell_type": "code",
   "execution_count": null,
   "id": "da4f4702",
   "metadata": {},
   "outputs": [],
   "source": []
  }
 ],
 "metadata": {
  "kernelspec": {
   "display_name": "Python 3 (ipykernel)",
   "language": "python",
   "name": "python3"
  },
  "language_info": {
   "codemirror_mode": {
    "name": "ipython",
    "version": 3
   },
   "file_extension": ".py",
   "mimetype": "text/x-python",
   "name": "python",
   "nbconvert_exporter": "python",
   "pygments_lexer": "ipython3",
   "version": "3.10.9"
  }
 },
 "nbformat": 4,
 "nbformat_minor": 5
}
