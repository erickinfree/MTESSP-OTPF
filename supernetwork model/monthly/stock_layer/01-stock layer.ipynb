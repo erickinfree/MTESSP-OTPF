{
 "cells": [
  {
   "cell_type": "code",
   "execution_count": null,
   "id": "5ee8f322",
   "metadata": {},
   "outputs": [],
   "source": [
    "import numpy as np\n",
    "import pandas as pd\n",
    "import networkx as nx\n",
    "from numpy.linalg import norm\n",
    "\n",
    "class StockMatrix:\n",
    "    def __init__(self,stockexcel):\n",
    "        self.stockexcel = stockexcel\n",
    "\n",
    "    def CosSimcal(self,stock1,stock2):\n",
    "        cosine_similarity = np.dot(stock1, stock2)/(norm(stock1)*norm(stock2))\n",
    "        return cosine_similarity\n",
    "\n",
    "    def PersonSimcal(self,stock1,stock2):\n",
    "        correlation_matrix = np.corrcoef(stock1,stock2)\n",
    "        pearson_correlation = correlation_matrix[0, 1]\n",
    "        return pearson_correlation\n",
    "\n",
    "    def Netting(self):\n",
    "        df_target = pd.DataFrame(columns=['startstock','endstock','weight'])\n",
    "        num_columns = self.stockexcel.shape[1]\n",
    "        df = self.stockexcel\n",
    "        for i in range(1,num_columns):\n",
    "            for j in range(1,num_columns):\n",
    "                if i != j:\n",
    "                    weight = abs(self.PersonSimcal(df.iloc[:,i],df.iloc[:,j]))\n",
    "                    new_data = {'startstock': df.columns[i], 'endstock': df.columns[j], 'weight': weight}\n",
    "                    df_target = pd.concat([df_target, pd.DataFrame([new_data])], ignore_index=True)\n",
    "                    # print(new_data)\n",
    "        return df_target\n",
    "\n",
    "    def NettingMatrix(self):\n",
    "        targetpair = self.Netting()\n",
    "        G = nx.Graph()\n",
    "        for startname, endname, wgt in zip(targetpair['startstock'], targetpair['endstock'], targetpair['weight']):\n",
    "            G.add_edge(startname, endname, weight=wgt)\n",
    "        adj_matrix = nx.to_numpy_matrix(G)\n",
    "        return adj_matrix\n",
    "\n",
    "\n",
    "if __name__ == '__main__':\n",
    "    data = pd.read_excel('stock_1.xlsx')\n",
    "    stock = StockMatrix(data)\n",
    "    print(stock.NettingMatrix())\n",
    "\n",
    "\n",
    "\n",
    "\n",
    "\n",
    "\n"
   ]
  }
 ],
 "metadata": {
  "kernelspec": {
   "display_name": "Python 3 (ipykernel)",
   "language": "python",
   "name": "python3"
  },
  "language_info": {
   "codemirror_mode": {
    "name": "ipython",
    "version": 3
   },
   "file_extension": ".py",
   "mimetype": "text/x-python",
   "name": "python",
   "nbconvert_exporter": "python",
   "pygments_lexer": "ipython3",
   "version": "3.10.9"
  }
 },
 "nbformat": 4,
 "nbformat_minor": 5
}
