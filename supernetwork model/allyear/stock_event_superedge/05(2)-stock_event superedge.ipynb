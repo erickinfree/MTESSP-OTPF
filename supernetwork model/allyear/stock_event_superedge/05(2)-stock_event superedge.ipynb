{
 "cells": [
  {
   "cell_type": "code",
   "execution_count": 6,
   "id": "adf489f6",
   "metadata": {},
   "outputs": [],
   "source": [
    "import pandas as pd\n",
    "\n",
    "# 读取Excel文件\n",
    "df = pd.read_excel('output.xlsx')\n",
    "\n",
    "# 遍历DataFrame，修改数值\n",
    "for i in range(len(df)):\n",
    "    for j in range(len(df.columns)):\n",
    "        cell_value = df.iloc[i, j]\n",
    "        # 检查是否为数字，如果不是数字，则不进行处理\n",
    "        if isinstance(cell_value, (int, float)):\n",
    "            if abs(cell_value) >= 5:\n",
    "                df.iloc[i, j] = abs(cell_value)\n",
    "            else:\n",
    "                df.iloc[i, j] = 0\n",
    "\n",
    "# 将修改后的DataFrame写入新的Excel文件\n",
    "df.to_excel(r'E:\\课题组\\个人\\论文\\多系统风险传导最短路径\\network\\stock_event.xlsx', index=False)\n"
   ]
  },
  {
   "cell_type": "code",
   "execution_count": 14,
   "id": "9a417e7d",
   "metadata": {},
   "outputs": [
    {
     "name": "stderr",
     "output_type": "stream",
     "text": [
      "Exception ignored in: <function ZipFile.__del__ at 0x000002453F0FE0E0>\n",
      "Traceback (most recent call last):\n",
      "  File \"E:\\download\\anaconda\\lib\\zipfile.py\", line 1819, in __del__\n",
      "    self.close()\n",
      "  File \"E:\\download\\anaconda\\lib\\zipfile.py\", line 1836, in close\n",
      "    self.fp.seek(self.start_dir)\n",
      "ValueError: seek of closed file\n",
      "Exception ignored in: <function ZipFile.__del__ at 0x000002453F0FE0E0>\n",
      "Traceback (most recent call last):\n",
      "  File \"E:\\download\\anaconda\\lib\\zipfile.py\", line 1819, in __del__\n",
      "    self.close()\n",
      "  File \"E:\\download\\anaconda\\lib\\zipfile.py\", line 1836, in close\n",
      "    self.fp.seek(self.start_dir)\n",
      "ValueError: seek of closed file\n",
      "Exception ignored in: <function ZipFile.__del__ at 0x000002453F0FE0E0>\n",
      "Traceback (most recent call last):\n",
      "  File \"E:\\download\\anaconda\\lib\\zipfile.py\", line 1819, in __del__\n",
      "    self.close()\n",
      "  File \"E:\\download\\anaconda\\lib\\zipfile.py\", line 1836, in close\n",
      "    self.fp.seek(self.start_dir)\n",
      "ValueError: seek of closed file\n",
      "Exception ignored in: <function ZipFile.__del__ at 0x000002453F0FE0E0>\n",
      "Traceback (most recent call last):\n",
      "  File \"E:\\download\\anaconda\\lib\\zipfile.py\", line 1819, in __del__\n",
      "    self.close()\n",
      "  File \"E:\\download\\anaconda\\lib\\zipfile.py\", line 1836, in close\n",
      "    self.fp.seek(self.start_dir)\n",
      "ValueError: seek of closed file\n"
     ]
    }
   ],
   "source": [
    "import pandas as pd\n",
    "from datetime import datetime\n",
    "\n",
    "# 读取 Excel 文件\n",
    "df = pd.read_excel('stock_event.xlsx')\n",
    "\n",
    "# 创建一个新的 Excel 文件\n",
    "with pd.ExcelWriter('stock_event_onmonth.xlsx') as writer:\n",
    "    # 循环处理每个月份\n",
    "    for month in range(2, 13):\n",
    "        # 创建当前月份的 sheet\n",
    "        sheet_name = f'{month}月'\n",
    "        # 选择当前月份的数据并将其他月份数据填充为0\n",
    "        month_df = df.copy()\n",
    "        for col in month_df.columns[1:]:  # 遍历除了第一列（股票名称）之外的所有列\n",
    "            # 提取列的月份信息（第一行表示）\n",
    "            col_month = col.month\n",
    "            if col_month == month:\n",
    "                # 如果当前列的月份与目标月份一致，则保留数据，否则置为0\n",
    "                continue\n",
    "            else:\n",
    "                month_df[col] = 0\n",
    "        # 写入当前月份的数据到新的 sheet\n",
    "        month_df.to_excel(writer, sheet_name=sheet_name, index=False)\n"
   ]
  },
  {
   "cell_type": "code",
   "execution_count": null,
   "id": "6ce764ee",
   "metadata": {},
   "outputs": [],
   "source": []
  },
  {
   "cell_type": "code",
   "execution_count": null,
   "id": "4db5714b",
   "metadata": {},
   "outputs": [],
   "source": []
  }
 ],
 "metadata": {
  "kernelspec": {
   "display_name": "Python 3 (ipykernel)",
   "language": "python",
   "name": "python3"
  },
  "language_info": {
   "codemirror_mode": {
    "name": "ipython",
    "version": 3
   },
   "file_extension": ".py",
   "mimetype": "text/x-python",
   "name": "python",
   "nbconvert_exporter": "python",
   "pygments_lexer": "ipython3",
   "version": "3.10.9"
  }
 },
 "nbformat": 4,
 "nbformat_minor": 5
}
