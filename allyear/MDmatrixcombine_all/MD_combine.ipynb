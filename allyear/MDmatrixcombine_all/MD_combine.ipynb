{
 "cells": [
  {
   "cell_type": "code",
   "execution_count": null,
   "id": "8168b43b",
   "metadata": {},
   "outputs": [],
   "source": [
    "import numpy as np\n",
    "\n",
    "# # 保留三位小数并显示矩阵\n",
    "# def display_matrix(matrix):\n",
    "#     np.set_printoptions(formatter={'float': '{: 0.4f}'.format})\n",
    "#     return matrix\n",
    "\n",
    "\n",
    "emotion_matrix = np.load('emotionnet.npy',allow_pickle=True)\n",
    "\n",
    "media_matrix = np.load('medianet.npy',allow_pickle=True)\n",
    "\n",
    "\n",
    "event_matrix = np.load('eventnet.npy',allow_pickle=True)\n",
    "\n",
    "\n",
    "stock_matrix = np.load('stocknet.npy',allow_pickle=True)\n",
    "\n",
    "\n",
    "emotion_media_matrix = np.load('emotion_media_net.npy',allow_pickle=True)\n",
    "# emotion_media_matrix = [display_matrix(emotion_media_matrix[i]) for i in range(len(emotion_media_matrix))]\n",
    "# print([ele.shape for ele in emotion_media_matrix])\n",
    "\n",
    "media_event_matrix = np.load('media_event_net.npy',allow_pickle=True)\n",
    "# media_event_matrix = [display_matrix(media_event_matrix[i]) for i in range(len(media_event_matrix))]\n",
    "# print([ele.shape for ele in media_event_matrix])\n",
    "\n",
    "event_stock_matrix = np.load('event_stock_net.npy',allow_pickle=True)\n",
    "# event_stock_matrix = [display_matrix(event_stock_matrix[i]) for i in range(len(event_stock_matrix))]\n",
    "# print([ele.shape for ele in event_stock_matrix])\n",
    "\n",
    "block_matrix_seq = np.array([[emotion_matrix, emotion_media_matrix, np.zeros((28, 19)), np.zeros((28, 55))],\n",
    "                             [np.zeros((16, 28)), media_matrix, media_event_matrix, np.zeros((16, 55))],\n",
    "                             [np.zeros((19, 28)), np.zeros((19, 16)), event_matrix,event_stock_matrix],\n",
    "                             [np.zeros((55, 28)), np.zeros((55, 16)), np.zeros((55, 19)), stock_matrix]])\n",
    "\n",
    "print(block_matrix_seq)\n",
    "\n",
    "np.save('block_matrix_all.npy',block_matrix_seq)"
   ]
  }
 ],
 "metadata": {
  "kernelspec": {
   "display_name": "Python 3 (ipykernel)",
   "language": "python",
   "name": "python3"
  },
  "language_info": {
   "codemirror_mode": {
    "name": "ipython",
    "version": 3
   },
   "file_extension": ".py",
   "mimetype": "text/x-python",
   "name": "python",
   "nbconvert_exporter": "python",
   "pygments_lexer": "ipython3",
   "version": "3.10.9"
  }
 },
 "nbformat": 4,
 "nbformat_minor": 5
}
