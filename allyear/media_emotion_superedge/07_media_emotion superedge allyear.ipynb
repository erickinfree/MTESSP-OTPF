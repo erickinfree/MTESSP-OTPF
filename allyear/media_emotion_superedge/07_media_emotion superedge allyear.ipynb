{
 "cells": [
  {
   "cell_type": "code",
   "execution_count": null,
   "id": "6b5c826a",
   "metadata": {},
   "outputs": [],
   "source": [
    "#全年数据\n",
    "import pandas as pd\n",
    "\n",
    "# 读取第一个Excel表格\n",
    "df1 = pd.read_excel(r\"E:\\课题组\\个人\\论文\\多系统风险传导最短路径\\network\\全年network\\media_emotion_merged.xlsx\")\n",
    "\n",
    "# 去除情绪列标题中的空格\n",
    "df1.columns = df1.columns.str.strip()\n",
    "\n",
    "# 创建一个空的DataFrame来存储媒体和情绪的邻接矩阵\n",
    "media_emotion_matrix = pd.DataFrame()\n",
    "\n",
    "# 遍历第一个Excel表中的每一行\n",
    "for index, row in df1.iterrows():\n",
    "    media = row[\"媒体名称\"]\n",
    "    emotions_str = str(row[\"res_all\"])  # 将值转换为字符串类型\n",
    "    emotions = emotions_str.replace(\" \", \"\").split(\",\")  # 去除空格后再按逗号分割成列表\n",
    "    \n",
    "    # 统计每个情绪的数量\n",
    "    emotion_count = {}\n",
    "    for emotion in emotions:\n",
    "        emotion_count[emotion] = emotion_count.get(emotion, 0) + 1\n",
    "    \n",
    "    # 将统计结果添加到邻接矩阵中\n",
    "    for emotion, count in emotion_count.items():\n",
    "        if emotion not in media_emotion_matrix.columns:\n",
    "            media_emotion_matrix[emotion] = 0  # 如果情绪列不存在，则创建\n",
    "        if media not in media_emotion_matrix.index:\n",
    "            media_emotion_matrix.loc[media] = 0  # 如果媒体行不存在，则创建\n",
    "        media_emotion_matrix.at[media, emotion] += count  # 更新值\n",
    "\n",
    "with pd.ExcelWriter(r\"E:\\课题组\\个人\\论文\\多系统风险传导最短路径\\network\\全年network\\07media_emotion_allyear.xlsx\") as writer:\n",
    "    media_emotion_matrix.to_excel(writer, sheet_name=\"07\")\n",
    "\n"
   ]
  }
 ],
 "metadata": {
  "kernelspec": {
   "display_name": "Python 3 (ipykernel)",
   "language": "python",
   "name": "python3"
  },
  "language_info": {
   "codemirror_mode": {
    "name": "ipython",
    "version": 3
   },
   "file_extension": ".py",
   "mimetype": "text/x-python",
   "name": "python",
   "nbconvert_exporter": "python",
   "pygments_lexer": "ipython3",
   "version": "3.10.9"
  }
 },
 "nbformat": 4,
 "nbformat_minor": 5
}
