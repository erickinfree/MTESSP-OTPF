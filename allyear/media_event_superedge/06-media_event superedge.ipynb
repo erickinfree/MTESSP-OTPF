{
 "cells": [
  {
   "cell_type": "code",
   "execution_count": 2,
   "id": "c5481cd2",
   "metadata": {},
   "outputs": [],
   "source": [
    "#获取全年的media_event\n",
    "\n",
    "from openpyxl import load_workbook, Workbook\n",
    "\n",
    "def sum_excel_sheets(input_filename, output_filename):\n",
    "    # 加载原始Excel文件\n",
    "    input_wb = load_workbook(input_filename)\n",
    "\n",
    "    # 创建一个新的Excel文件\n",
    "    output_wb = Workbook()\n",
    "    output_ws = output_wb.active\n",
    "\n",
    "    # 遍历每个sheet\n",
    "    for sheet_name in input_wb.sheetnames:\n",
    "        sheet = input_wb[sheet_name]\n",
    "\n",
    "        # 逐行逐列计算和并写入到新文件\n",
    "        for row_idx in range(1, sheet.max_row + 1):\n",
    "            for col_idx in range(1, sheet.max_column + 1):\n",
    "                # 第一行和第一列保留\n",
    "                if row_idx == 1 or col_idx == 1:\n",
    "                    output_ws.cell(row=row_idx, column=col_idx, value=sheet.cell(row=row_idx, column=col_idx).value)\n",
    "                else:\n",
    "                    current_value = output_ws.cell(row=row_idx, column=col_idx).value\n",
    "                    new_value = current_value + sheet.cell(row=row_idx, column=col_idx).value if current_value else sheet.cell(row=row_idx, column=col_idx).value\n",
    "                    output_ws.cell(row=row_idx, column=col_idx, value=new_value)\n",
    "\n",
    "    # 保存合并后的数据到新的Excel文件\n",
    "    output_wb.save(output_filename)\n",
    "\n",
    "# 指定原始文件名和输出文件名\n",
    "input_filename = r\"E:\\课题组\\个人\\论文\\多系统风险传导最短路径\\network\\05stock_event_onmonth1.xlsx\"\n",
    "output_filename = r\"E:\\课题组\\个人\\论文\\多系统风险传导最短路径\\network\\全年network\\05stock_event_allyear.xlsx\"\n",
    "\n",
    "# 调用函数进行合并\n",
    "sum_excel_sheets(input_filename, output_filename)\n"
   ]
  },
  {
   "cell_type": "code",
   "execution_count": null,
   "id": "6649c849",
   "metadata": {},
   "outputs": [],
   "source": []
  }
 ],
 "metadata": {
  "kernelspec": {
   "display_name": "Python 3 (ipykernel)",
   "language": "python",
   "name": "python3"
  },
  "language_info": {
   "codemirror_mode": {
    "name": "ipython",
    "version": 3
   },
   "file_extension": ".py",
   "mimetype": "text/x-python",
   "name": "python",
   "nbconvert_exporter": "python",
   "pygments_lexer": "ipython3",
   "version": "3.10.9"
  }
 },
 "nbformat": 4,
 "nbformat_minor": 5
}
